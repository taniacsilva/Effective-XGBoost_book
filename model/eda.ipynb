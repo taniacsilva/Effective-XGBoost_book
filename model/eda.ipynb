{
 "cells": [
  {
   "cell_type": "code",
   "execution_count": null,
   "metadata": {},
   "outputs": [],
   "source": [
    "(X_train\n",
    ".assign(data_scientist = kag_y_train == 'Data Scientist')\n",
    ".corr(method = 'spearman')\n",
    ".style\n",
    ".background_gradient(cmap = 'RdBu', vmax=1, vmin=-1)\n",
    ".set_sticky(axis='index'))"
   ]
  }
 ],
 "metadata": {
  "kernelspec": {
   "display_name": "base",
   "language": "python",
   "name": "python3"
  },
  "language_info": {
   "codemirror_mode": {
    "name": "ipython",
    "version": 3
   },
   "file_extension": ".py",
   "mimetype": "text/x-python",
   "name": "python",
   "nbconvert_exporter": "python",
   "pygments_lexer": "ipython3",
   "version": "3.10.11"
  },
  "orig_nbformat": 4
 },
 "nbformat": 4,
 "nbformat_minor": 2
}
