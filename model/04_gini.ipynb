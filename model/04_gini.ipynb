{
 "cells": [
  {
   "cell_type": "code",
   "execution_count": 3,
   "metadata": {},
   "outputs": [
    {
     "data": {
      "text/plain": [
       "<matplotlib.legend.Legend at 0x230989bedf0>"
      ]
     },
     "execution_count": 3,
     "metadata": {},
     "output_type": "execute_result"
    },
    {
     "data": {
      "image/png": "[encoded data removed]",
      "text/plain": [
       "<Figure size 576x288 with 1 Axes>"
      ]
     },
     "metadata": {
      "needs_background": "light"
     },
     "output_type": "display_data"
    }
   ],
   "source": [
    "import numpy as np\n",
    "import numpy.random as rn\n",
    "import pandas as pd\n",
    "import matplotlib.pyplot as plt\n",
    "\n",
    "pos_center = 12\n",
    "pos_count = 100\n",
    "neg_center = 7\n",
    "neg_count = 1000\n",
    "\n",
    "rs = rn.RandomState(rn.MT19937(rn.SeedSequence(42)))\n",
    "gini = pd.DataFrame({'value': np.append((pos_center) + rs.randn(pos_count),\n",
    "                                        (neg_center) + rs.randn(neg_count)),\n",
    "                    'label':\n",
    "                    ['pos']*pos_count + ['neg']*neg_count})\n",
    "\n",
    "\n",
    "fig, ax = plt.subplots(figsize = (8, 4))\n",
    "_ = (gini.groupby('label')[['value']].plot.hist(bins=30, alpha=.5, ax=ax, edgecolor='black'))\n",
    "\n",
    "ax.legend(['Negative', 'Positive'])"
   ]
  },
  {
   "cell_type": "code",
   "execution_count": 4,
   "metadata": {},
   "outputs": [],
   "source": [
    "def calc_gini(df, val_col, label_col, pos_val, split_point, debug=False):\n",
    "    \"\"\"\n",
    "    This function calculates the gini impurity of a datset. Gini impurity\\\n",
    "    is a measure of the probability of a random sample being classified incorrectly\\\n",
    "    when a feature is used to split the data. The lower the impurity, the better the split\n",
    "\n",
    "    Parameter:\n",
    "    df(pd.DataFrame): The dataframe containing the data\n",
    "    val_col(str): The column name of the feature used to split the data\n",
    "    label_col(Str): The column name of the target variable\n",
    "    pos_val(str or int): The value of the target variable that represents the positive class\n",
    "    split_point(float); The threshold used to split the data\n",
    "    debug(bool): optional, when set to True, prints teh calculated Gini impuritird and the final weighted average\n",
    "\n",
    "    Returns:\n",
    "    float: The weighted average of Gini impurity for the positive and negative subsets\n",
    "    \"\"\"\n",
    "\n",
    "    ge_split = df[val_col] >= split_point\n",
    "    eq_pos = df[label_col] == pos_val\n",
    "    tp = df[ge_split & eq_pos].shape[0]\n",
    "    fp = df[ge_split & ~eq_pos].shape[0]\n",
    "    tn = df[~ge_split & ~eq_pos].shape[0]\n",
    "    fn = df[~ge_split & eq_pos].shape[0]\n",
    "    pos_size = tp+fp\n",
    "    neg_size = tn+fn\n",
    "    total_size  = len(df)\n",
    "    if pos_size == 0:\n",
    "        gini_pos = 0\n",
    "    else:\n",
    "        gini_pos = 1 - (tp/pos_size)**2 - (fp/pos_size)**2\n",
    "    if neg_size == 0:\n",
    "        gini_neg = 0\n",
    "    else:\n",
    "        gini_neg = 1 - (tn/neg_size)**2 - (fn/neg_size)**2\n",
    "    weighted_avg = gini_pos * (pos_size/total_size) + gini_neg * (neg_size/total_size)\n",
    "\n",
    "    if debug:\n",
    "        print(f'{gini_pos:.3} {gini_neg:.3} {weighted_avg:.3}')\n",
    "    \n",
    "    return weighted_avg"
   ]
  },
  {
   "cell_type": "code",
   "execution_count": 5,
   "metadata": {},
   "outputs": [
    {
     "name": "stdout",
     "output_type": "stream",
     "text": [
      "0.217 0.00202 0.0241\n"
     ]
    },
    {
     "data": {
      "text/plain": [
       "0.024117224644432264"
      ]
     },
     "execution_count": 5,
     "metadata": {},
     "output_type": "execute_result"
    }
   ],
   "source": [
    "calc_gini(gini, val_col=\"value\", label_col=\"label\", pos_val=\"pos\", split_point=9.24, debug=True)"
   ]
  }
 ],
 "metadata": {
  "kernelspec": {
   "display_name": "base",
   "language": "python",
   "name": "python3"
  },
  "language_info": {
   "codemirror_mode": {
    "name": "ipython",
    "version": 3
   },
   "file_extension": ".py",
   "mimetype": "text/x-python",
   "name": "python",
   "nbconvert_exporter": "python",
   "pygments_lexer": "ipython3",
   "version": "3.8.8"
  },
  "orig_nbformat": 4
 },
 "nbformat": 4,
 "nbformat_minor": 2
}
